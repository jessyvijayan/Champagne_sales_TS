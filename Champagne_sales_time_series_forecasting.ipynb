{
 "cells": [
  {
   "cell_type": "code",
   "execution_count": 44,
   "id": "dd858d41",
   "metadata": {},
   "outputs": [],
   "source": [
    "import pandas as pd \n",
    "import numpy as np\n",
    "\n",
    "import statsmodels as sm\n",
    "from statsmodels.tsa.stattools import adfuller\n",
    "from statsmodels.graphics.tsaplots import plot_acf,plot_pacf\n",
    "from statsmodels.tsa.arima_model import ARIMA\n",
    "from statsmodels.tsa.statespace import sarimax\n",
    "from pandas.tseries.offsets import DateOffset\n",
    "\n",
    "import warnings\n",
    "warnings.filterwarnings('ignore')"
   ]
  },
  {
   "cell_type": "code",
   "execution_count": 2,
   "id": "680f9034",
   "metadata": {},
   "outputs": [],
   "source": [
    "df = pd.read_csv('Time Series Data.csv')"
   ]
  },
  {
   "cell_type": "code",
   "execution_count": 3,
   "id": "3ab5f8cf",
   "metadata": {},
   "outputs": [
    {
     "data": {
      "text/html": [
       "<div>\n",
       "<style scoped>\n",
       "    .dataframe tbody tr th:only-of-type {\n",
       "        vertical-align: middle;\n",
       "    }\n",
       "\n",
       "    .dataframe tbody tr th {\n",
       "        vertical-align: top;\n",
       "    }\n",
       "\n",
       "    .dataframe thead th {\n",
       "        text-align: right;\n",
       "    }\n",
       "</style>\n",
       "<table border=\"1\" class=\"dataframe\">\n",
       "  <thead>\n",
       "    <tr style=\"text-align: right;\">\n",
       "      <th></th>\n",
       "      <th>Month</th>\n",
       "      <th>Perrin Freres monthly champagne sales millions ?64-?72</th>\n",
       "    </tr>\n",
       "  </thead>\n",
       "  <tbody>\n",
       "    <tr>\n",
       "      <th>0</th>\n",
       "      <td>1964-01</td>\n",
       "      <td>2815</td>\n",
       "    </tr>\n",
       "    <tr>\n",
       "      <th>1</th>\n",
       "      <td>1964-02</td>\n",
       "      <td>2672</td>\n",
       "    </tr>\n",
       "    <tr>\n",
       "      <th>2</th>\n",
       "      <td>1964-03</td>\n",
       "      <td>2755</td>\n",
       "    </tr>\n",
       "    <tr>\n",
       "      <th>3</th>\n",
       "      <td>1964-04</td>\n",
       "      <td>2721</td>\n",
       "    </tr>\n",
       "    <tr>\n",
       "      <th>4</th>\n",
       "      <td>1964-05</td>\n",
       "      <td>2946</td>\n",
       "    </tr>\n",
       "  </tbody>\n",
       "</table>\n",
       "</div>"
      ],
      "text/plain": [
       "     Month  Perrin Freres monthly champagne sales millions ?64-?72\n",
       "0  1964-01                                               2815     \n",
       "1  1964-02                                               2672     \n",
       "2  1964-03                                               2755     \n",
       "3  1964-04                                               2721     \n",
       "4  1964-05                                               2946     "
      ]
     },
     "execution_count": 3,
     "metadata": {},
     "output_type": "execute_result"
    }
   ],
   "source": [
    "df.head()"
   ]
  },
  {
   "cell_type": "code",
   "execution_count": 4,
   "id": "6ec8470c",
   "metadata": {},
   "outputs": [
    {
     "data": {
      "text/plain": [
       "(105, 2)"
      ]
     },
     "execution_count": 4,
     "metadata": {},
     "output_type": "execute_result"
    }
   ],
   "source": [
    "df.shape"
   ]
  },
  {
   "cell_type": "code",
   "execution_count": 5,
   "id": "f21aee27",
   "metadata": {},
   "outputs": [
    {
     "data": {
      "text/html": [
       "<div>\n",
       "<style scoped>\n",
       "    .dataframe tbody tr th:only-of-type {\n",
       "        vertical-align: middle;\n",
       "    }\n",
       "\n",
       "    .dataframe tbody tr th {\n",
       "        vertical-align: top;\n",
       "    }\n",
       "\n",
       "    .dataframe thead th {\n",
       "        text-align: right;\n",
       "    }\n",
       "</style>\n",
       "<table border=\"1\" class=\"dataframe\">\n",
       "  <thead>\n",
       "    <tr style=\"text-align: right;\">\n",
       "      <th></th>\n",
       "      <th>Month</th>\n",
       "      <th>Perrin Freres monthly champagne sales millions ?64-?72</th>\n",
       "    </tr>\n",
       "  </thead>\n",
       "  <tbody>\n",
       "    <tr>\n",
       "      <th>100</th>\n",
       "      <td>1972-05</td>\n",
       "      <td>4618</td>\n",
       "    </tr>\n",
       "    <tr>\n",
       "      <th>101</th>\n",
       "      <td>1972-06</td>\n",
       "      <td>5312</td>\n",
       "    </tr>\n",
       "    <tr>\n",
       "      <th>102</th>\n",
       "      <td>1972-07</td>\n",
       "      <td>4298</td>\n",
       "    </tr>\n",
       "    <tr>\n",
       "      <th>103</th>\n",
       "      <td>1972-08</td>\n",
       "      <td>1413</td>\n",
       "    </tr>\n",
       "    <tr>\n",
       "      <th>104</th>\n",
       "      <td>1972-09</td>\n",
       "      <td>5877</td>\n",
       "    </tr>\n",
       "  </tbody>\n",
       "</table>\n",
       "</div>"
      ],
      "text/plain": [
       "       Month  Perrin Freres monthly champagne sales millions ?64-?72\n",
       "100  1972-05                                               4618     \n",
       "101  1972-06                                               5312     \n",
       "102  1972-07                                               4298     \n",
       "103  1972-08                                               1413     \n",
       "104  1972-09                                               5877     "
      ]
     },
     "execution_count": 5,
     "metadata": {},
     "output_type": "execute_result"
    }
   ],
   "source": [
    "df.tail()"
   ]
  },
  {
   "cell_type": "code",
   "execution_count": 6,
   "id": "c9de6583",
   "metadata": {},
   "outputs": [],
   "source": [
    "df.columns = ['time','sales']"
   ]
  },
  {
   "cell_type": "code",
   "execution_count": 7,
   "id": "9e073a59",
   "metadata": {},
   "outputs": [
    {
     "data": {
      "text/html": [
       "<div>\n",
       "<style scoped>\n",
       "    .dataframe tbody tr th:only-of-type {\n",
       "        vertical-align: middle;\n",
       "    }\n",
       "\n",
       "    .dataframe tbody tr th {\n",
       "        vertical-align: top;\n",
       "    }\n",
       "\n",
       "    .dataframe thead th {\n",
       "        text-align: right;\n",
       "    }\n",
       "</style>\n",
       "<table border=\"1\" class=\"dataframe\">\n",
       "  <thead>\n",
       "    <tr style=\"text-align: right;\">\n",
       "      <th></th>\n",
       "      <th>time</th>\n",
       "      <th>sales</th>\n",
       "    </tr>\n",
       "  </thead>\n",
       "  <tbody>\n",
       "    <tr>\n",
       "      <th>0</th>\n",
       "      <td>1964-01</td>\n",
       "      <td>2815</td>\n",
       "    </tr>\n",
       "    <tr>\n",
       "      <th>1</th>\n",
       "      <td>1964-02</td>\n",
       "      <td>2672</td>\n",
       "    </tr>\n",
       "    <tr>\n",
       "      <th>2</th>\n",
       "      <td>1964-03</td>\n",
       "      <td>2755</td>\n",
       "    </tr>\n",
       "    <tr>\n",
       "      <th>3</th>\n",
       "      <td>1964-04</td>\n",
       "      <td>2721</td>\n",
       "    </tr>\n",
       "    <tr>\n",
       "      <th>4</th>\n",
       "      <td>1964-05</td>\n",
       "      <td>2946</td>\n",
       "    </tr>\n",
       "  </tbody>\n",
       "</table>\n",
       "</div>"
      ],
      "text/plain": [
       "      time  sales\n",
       "0  1964-01   2815\n",
       "1  1964-02   2672\n",
       "2  1964-03   2755\n",
       "3  1964-04   2721\n",
       "4  1964-05   2946"
      ]
     },
     "execution_count": 7,
     "metadata": {},
     "output_type": "execute_result"
    }
   ],
   "source": [
    "df.head()"
   ]
  },
  {
   "cell_type": "code",
   "execution_count": 8,
   "id": "aa8debd0",
   "metadata": {},
   "outputs": [],
   "source": [
    "# For any time series data the datatype of the time column has to be pd.datetime If it is not in datetime format convert it into datetime format"
   ]
  },
  {
   "cell_type": "code",
   "execution_count": 9,
   "id": "7af57fa9",
   "metadata": {},
   "outputs": [
    {
     "data": {
      "text/plain": [
       "time     object\n",
       "sales     int64\n",
       "dtype: object"
      ]
     },
     "execution_count": 9,
     "metadata": {},
     "output_type": "execute_result"
    }
   ],
   "source": [
    "df.dtypes"
   ]
  },
  {
   "cell_type": "code",
   "execution_count": 10,
   "id": "6a3d0be4",
   "metadata": {},
   "outputs": [],
   "source": [
    "df['time'] = pd.to_datetime(df['time'])"
   ]
  },
  {
   "cell_type": "code",
   "execution_count": 11,
   "id": "acf950a6",
   "metadata": {},
   "outputs": [
    {
     "data": {
      "text/plain": [
       "time     datetime64[ns]\n",
       "sales             int64\n",
       "dtype: object"
      ]
     },
     "execution_count": 11,
     "metadata": {},
     "output_type": "execute_result"
    }
   ],
   "source": [
    "df.dtypes"
   ]
  },
  {
   "cell_type": "code",
   "execution_count": 12,
   "id": "67d528eb",
   "metadata": {},
   "outputs": [
    {
     "data": {
      "text/html": [
       "<div>\n",
       "<style scoped>\n",
       "    .dataframe tbody tr th:only-of-type {\n",
       "        vertical-align: middle;\n",
       "    }\n",
       "\n",
       "    .dataframe tbody tr th {\n",
       "        vertical-align: top;\n",
       "    }\n",
       "\n",
       "    .dataframe thead th {\n",
       "        text-align: right;\n",
       "    }\n",
       "</style>\n",
       "<table border=\"1\" class=\"dataframe\">\n",
       "  <thead>\n",
       "    <tr style=\"text-align: right;\">\n",
       "      <th></th>\n",
       "      <th>time</th>\n",
       "      <th>sales</th>\n",
       "    </tr>\n",
       "  </thead>\n",
       "  <tbody>\n",
       "    <tr>\n",
       "      <th>0</th>\n",
       "      <td>1964-01-01</td>\n",
       "      <td>2815</td>\n",
       "    </tr>\n",
       "    <tr>\n",
       "      <th>1</th>\n",
       "      <td>1964-02-01</td>\n",
       "      <td>2672</td>\n",
       "    </tr>\n",
       "    <tr>\n",
       "      <th>2</th>\n",
       "      <td>1964-03-01</td>\n",
       "      <td>2755</td>\n",
       "    </tr>\n",
       "    <tr>\n",
       "      <th>3</th>\n",
       "      <td>1964-04-01</td>\n",
       "      <td>2721</td>\n",
       "    </tr>\n",
       "    <tr>\n",
       "      <th>4</th>\n",
       "      <td>1964-05-01</td>\n",
       "      <td>2946</td>\n",
       "    </tr>\n",
       "  </tbody>\n",
       "</table>\n",
       "</div>"
      ],
      "text/plain": [
       "        time  sales\n",
       "0 1964-01-01   2815\n",
       "1 1964-02-01   2672\n",
       "2 1964-03-01   2755\n",
       "3 1964-04-01   2721\n",
       "4 1964-05-01   2946"
      ]
     },
     "execution_count": 12,
     "metadata": {},
     "output_type": "execute_result"
    }
   ],
   "source": [
    "df.head()"
   ]
  },
  {
   "cell_type": "code",
   "execution_count": 13,
   "id": "f118ae79",
   "metadata": {},
   "outputs": [
    {
     "data": {
      "text/plain": [
       "array(['1964-01-01T00:00:00.000000000', '1964-02-01T00:00:00.000000000',\n",
       "       '1964-03-01T00:00:00.000000000', '1964-04-01T00:00:00.000000000',\n",
       "       '1964-05-01T00:00:00.000000000', '1964-06-01T00:00:00.000000000',\n",
       "       '1964-07-01T00:00:00.000000000', '1964-08-01T00:00:00.000000000',\n",
       "       '1964-09-01T00:00:00.000000000', '1964-10-01T00:00:00.000000000',\n",
       "       '1964-11-01T00:00:00.000000000', '1964-12-01T00:00:00.000000000',\n",
       "       '1965-01-01T00:00:00.000000000', '1965-02-01T00:00:00.000000000',\n",
       "       '1965-03-01T00:00:00.000000000', '1965-04-01T00:00:00.000000000',\n",
       "       '1965-05-01T00:00:00.000000000', '1965-06-01T00:00:00.000000000',\n",
       "       '1965-07-01T00:00:00.000000000', '1965-08-01T00:00:00.000000000',\n",
       "       '1965-09-01T00:00:00.000000000', '1965-10-01T00:00:00.000000000',\n",
       "       '1965-11-01T00:00:00.000000000', '1965-12-01T00:00:00.000000000',\n",
       "       '1966-01-01T00:00:00.000000000', '1966-02-01T00:00:00.000000000',\n",
       "       '1966-03-01T00:00:00.000000000', '1966-04-01T00:00:00.000000000',\n",
       "       '1966-05-01T00:00:00.000000000', '1966-06-01T00:00:00.000000000',\n",
       "       '1966-07-01T00:00:00.000000000', '1966-08-01T00:00:00.000000000',\n",
       "       '1966-09-01T00:00:00.000000000', '1966-10-01T00:00:00.000000000',\n",
       "       '1966-11-01T00:00:00.000000000', '1966-12-01T00:00:00.000000000',\n",
       "       '1967-01-01T00:00:00.000000000', '1967-02-01T00:00:00.000000000',\n",
       "       '1967-03-01T00:00:00.000000000', '1967-04-01T00:00:00.000000000',\n",
       "       '1967-05-01T00:00:00.000000000', '1967-06-01T00:00:00.000000000',\n",
       "       '1967-07-01T00:00:00.000000000', '1967-08-01T00:00:00.000000000',\n",
       "       '1967-09-01T00:00:00.000000000', '1967-10-01T00:00:00.000000000',\n",
       "       '1967-11-01T00:00:00.000000000', '1967-12-01T00:00:00.000000000',\n",
       "       '1968-01-01T00:00:00.000000000', '1968-02-01T00:00:00.000000000',\n",
       "       '1968-03-01T00:00:00.000000000', '1968-04-01T00:00:00.000000000',\n",
       "       '1968-05-01T00:00:00.000000000', '1968-06-01T00:00:00.000000000',\n",
       "       '1968-07-01T00:00:00.000000000', '1968-08-01T00:00:00.000000000',\n",
       "       '1968-09-01T00:00:00.000000000', '1968-10-01T00:00:00.000000000',\n",
       "       '1968-11-01T00:00:00.000000000', '1968-12-01T00:00:00.000000000',\n",
       "       '1969-01-01T00:00:00.000000000', '1969-02-01T00:00:00.000000000',\n",
       "       '1969-03-01T00:00:00.000000000', '1969-04-01T00:00:00.000000000',\n",
       "       '1969-05-01T00:00:00.000000000', '1969-06-01T00:00:00.000000000',\n",
       "       '1969-07-01T00:00:00.000000000', '1969-08-01T00:00:00.000000000',\n",
       "       '1969-09-01T00:00:00.000000000', '1969-10-01T00:00:00.000000000',\n",
       "       '1969-11-01T00:00:00.000000000', '1969-12-01T00:00:00.000000000',\n",
       "       '1970-01-01T00:00:00.000000000', '1970-02-01T00:00:00.000000000',\n",
       "       '1970-03-01T00:00:00.000000000', '1970-04-01T00:00:00.000000000',\n",
       "       '1970-05-01T00:00:00.000000000', '1970-06-01T00:00:00.000000000',\n",
       "       '1970-07-01T00:00:00.000000000', '1970-08-01T00:00:00.000000000',\n",
       "       '1970-09-01T00:00:00.000000000', '1970-10-01T00:00:00.000000000',\n",
       "       '1970-11-01T00:00:00.000000000', '1970-12-01T00:00:00.000000000',\n",
       "       '1971-01-01T00:00:00.000000000', '1971-02-01T00:00:00.000000000',\n",
       "       '1971-03-01T00:00:00.000000000', '1971-04-01T00:00:00.000000000',\n",
       "       '1971-05-01T00:00:00.000000000', '1971-06-01T00:00:00.000000000',\n",
       "       '1971-07-01T00:00:00.000000000', '1971-08-01T00:00:00.000000000',\n",
       "       '1971-09-01T00:00:00.000000000', '1971-10-01T00:00:00.000000000',\n",
       "       '1971-11-01T00:00:00.000000000', '1971-12-01T00:00:00.000000000',\n",
       "       '1972-01-01T00:00:00.000000000', '1972-02-01T00:00:00.000000000',\n",
       "       '1972-03-01T00:00:00.000000000', '1972-04-01T00:00:00.000000000',\n",
       "       '1972-05-01T00:00:00.000000000', '1972-06-01T00:00:00.000000000',\n",
       "       '1972-07-01T00:00:00.000000000', '1972-08-01T00:00:00.000000000',\n",
       "       '1972-09-01T00:00:00.000000000'], dtype='datetime64[ns]')"
      ]
     },
     "execution_count": 13,
     "metadata": {},
     "output_type": "execute_result"
    }
   ],
   "source": [
    "df['time'].unique()"
   ]
  },
  {
   "cell_type": "code",
   "execution_count": 14,
   "id": "0ce44366",
   "metadata": {},
   "outputs": [],
   "source": [
    "df.set_index('time',inplace=True) "
   ]
  },
  {
   "cell_type": "code",
   "execution_count": 15,
   "id": "e26276de",
   "metadata": {},
   "outputs": [
    {
     "data": {
      "text/html": [
       "<div>\n",
       "<style scoped>\n",
       "    .dataframe tbody tr th:only-of-type {\n",
       "        vertical-align: middle;\n",
       "    }\n",
       "\n",
       "    .dataframe tbody tr th {\n",
       "        vertical-align: top;\n",
       "    }\n",
       "\n",
       "    .dataframe thead th {\n",
       "        text-align: right;\n",
       "    }\n",
       "</style>\n",
       "<table border=\"1\" class=\"dataframe\">\n",
       "  <thead>\n",
       "    <tr style=\"text-align: right;\">\n",
       "      <th></th>\n",
       "      <th>sales</th>\n",
       "    </tr>\n",
       "  </thead>\n",
       "  <tbody>\n",
       "    <tr>\n",
       "      <th>count</th>\n",
       "      <td>105.000000</td>\n",
       "    </tr>\n",
       "    <tr>\n",
       "      <th>mean</th>\n",
       "      <td>4761.152381</td>\n",
       "    </tr>\n",
       "    <tr>\n",
       "      <th>std</th>\n",
       "      <td>2553.502601</td>\n",
       "    </tr>\n",
       "    <tr>\n",
       "      <th>min</th>\n",
       "      <td>1413.000000</td>\n",
       "    </tr>\n",
       "    <tr>\n",
       "      <th>25%</th>\n",
       "      <td>3113.000000</td>\n",
       "    </tr>\n",
       "    <tr>\n",
       "      <th>50%</th>\n",
       "      <td>4217.000000</td>\n",
       "    </tr>\n",
       "    <tr>\n",
       "      <th>75%</th>\n",
       "      <td>5221.000000</td>\n",
       "    </tr>\n",
       "    <tr>\n",
       "      <th>max</th>\n",
       "      <td>13916.000000</td>\n",
       "    </tr>\n",
       "  </tbody>\n",
       "</table>\n",
       "</div>"
      ],
      "text/plain": [
       "              sales\n",
       "count    105.000000\n",
       "mean    4761.152381\n",
       "std     2553.502601\n",
       "min     1413.000000\n",
       "25%     3113.000000\n",
       "50%     4217.000000\n",
       "75%     5221.000000\n",
       "max    13916.000000"
      ]
     },
     "execution_count": 15,
     "metadata": {},
     "output_type": "execute_result"
    }
   ],
   "source": [
    "df.describe()"
   ]
  },
  {
   "cell_type": "markdown",
   "id": "02866433",
   "metadata": {},
   "source": [
    "## Checking if data is stationary or non-stationary"
   ]
  },
  {
   "cell_type": "code",
   "execution_count": 16,
   "id": "80143e8d",
   "metadata": {},
   "outputs": [
    {
     "data": {
      "text/plain": [
       "<AxesSubplot:xlabel='time'>"
      ]
     },
     "execution_count": 16,
     "metadata": {},
     "output_type": "execute_result"
    },
    {
     "data": {
      "image/png": "[encoded data removed]",
      "text/plain": [
       "<Figure size 432x288 with 1 Axes>"
      ]
     },
     "metadata": {
      "needs_background": "light"
     },
     "output_type": "display_data"
    }
   ],
   "source": [
    "df.plot()"
   ]
  },
  {
   "cell_type": "markdown",
   "id": "37e5a3eb",
   "metadata": {},
   "source": [
    "### Performing AD Fuller test to find if data is stationary or non-stationary"
   ]
  },
  {
   "cell_type": "code",
   "execution_count": 17,
   "id": "5f59848c",
   "metadata": {},
   "outputs": [],
   "source": [
    "# AD Fuller test comes with certain hypothesis\n",
    "# 1. H0 (Null hypothesis) : the null hypothesis of this test is that the time series is non-stationary\n",
    "# 2. H1 (Al##ternate hypothesis) : the alternate hypothesis of this test is that the time series is stationary"
   ]
  },
  {
   "cell_type": "code",
   "execution_count": 18,
   "id": "231dd85b",
   "metadata": {},
   "outputs": [],
   "source": [
    "adf = adfuller(df['sales'])"
   ]
  },
  {
   "cell_type": "code",
   "execution_count": 19,
   "id": "9169a10b",
   "metadata": {},
   "outputs": [
    {
     "data": {
      "text/plain": [
       "(-1.8335930563276297,\n",
       " 0.3639157716602417,\n",
       " 11,\n",
       " 93,\n",
       " {'1%': -3.502704609582561,\n",
       "  '5%': -2.8931578098779522,\n",
       "  '10%': -2.583636712914788},\n",
       " 1478.4633060594724)"
      ]
     },
     "execution_count": 19,
     "metadata": {},
     "output_type": "execute_result"
    }
   ],
   "source": [
    "adf"
   ]
  },
  {
   "cell_type": "code",
   "execution_count": 20,
   "id": "72ecd73e",
   "metadata": {},
   "outputs": [],
   "source": [
    "# 1st = adf test statistics\n",
    "# 2nd = pvalue(threshold 0.05)\n",
    "# 3rd = no of lags\n",
    "# 4th = no of obs"
   ]
  },
  {
   "cell_type": "markdown",
   "id": "2368e7ba",
   "metadata": {},
   "source": [
    "#### Analysis:\n",
    "    Since the pvalue is greater than 0.05 we accept the null hypothesis i.e. data is non-stationary"
   ]
  },
  {
   "cell_type": "markdown",
   "id": "f9395359",
   "metadata": {},
   "source": [
    "## Using the first difference to make the data stationary"
   ]
  },
  {
   "cell_type": "code",
   "execution_count": 21,
   "id": "c647ff6c",
   "metadata": {},
   "outputs": [],
   "source": [
    "df['first_difference'] = df['sales'] - df['sales'].shift(1)"
   ]
  },
  {
   "cell_type": "code",
   "execution_count": 22,
   "id": "67c4929b",
   "metadata": {},
   "outputs": [],
   "source": [
    "adf = adfuller(df['first_difference'].dropna())"
   ]
  },
  {
   "cell_type": "code",
   "execution_count": 23,
   "id": "611eb75f",
   "metadata": {},
   "outputs": [
    {
     "data": {
      "text/plain": [
       "(-7.1898964480510195,\n",
       " 2.519620447386778e-10,\n",
       " 11,\n",
       " 92,\n",
       " {'1%': -3.503514579651927,\n",
       "  '5%': -2.893507960466837,\n",
       "  '10%': -2.583823615311909},\n",
       " 1466.8267262915888)"
      ]
     },
     "execution_count": 23,
     "metadata": {},
     "output_type": "execute_result"
    }
   ],
   "source": [
    "adf"
   ]
  },
  {
   "cell_type": "markdown",
   "id": "78f327d5",
   "metadata": {},
   "source": [
    "#### Analysis:\n",
    "    As the pvalue is lesser than 0.05 we reject the null hypothesis i.e. data is stationary"
   ]
  },
  {
   "cell_type": "markdown",
   "id": "c6678284",
   "metadata": {},
   "source": [
    "#### Conclusion:\n",
    "    The time series is now stationary"
   ]
  },
  {
   "cell_type": "code",
   "execution_count": 24,
   "id": "84247d8f",
   "metadata": {},
   "outputs": [
    {
     "data": {
      "text/plain": [
       "<AxesSubplot:xlabel='time'>"
      ]
     },
     "execution_count": 24,
     "metadata": {},
     "output_type": "execute_result"
    },
    {
     "data": {
      "image/png": "[encoded data removed]",
      "text/plain": [
       "<Figure size 432x288 with 1 Axes>"
      ]
     },
     "metadata": {
      "needs_background": "light"
     },
     "output_type": "display_data"
    }
   ],
   "source": [
    "df['first_difference'].plot()"
   ]
  },
  {
   "cell_type": "markdown",
   "id": "a43c8965",
   "metadata": {},
   "source": [
    "### Analysis:\n",
    "    From the above graphs we can conclude the graphs has seasonality"
   ]
  },
  {
   "cell_type": "code",
   "execution_count": 25,
   "id": "2c93212f",
   "metadata": {},
   "outputs": [],
   "source": [
    "df['seasonal_difference'] = df['sales'] - df['sales'].shift(12)"
   ]
  },
  {
   "cell_type": "code",
   "execution_count": 26,
   "id": "12b0f632",
   "metadata": {},
   "outputs": [
    {
     "data": {
      "text/plain": [
       "<AxesSubplot:xlabel='time'>"
      ]
     },
     "execution_count": 26,
     "metadata": {},
     "output_type": "execute_result"
    },
    {
     "data": {
      "image/png": "[encoded data removed]",
      "text/plain": [
       "<Figure size 432x288 with 1 Axes>"
      ]
     },
     "metadata": {
      "needs_background": "light"
     },
     "output_type": "display_data"
    }
   ],
   "source": [
    "df['seasonal_difference'].plot()"
   ]
  },
  {
   "cell_type": "code",
   "execution_count": 27,
   "id": "f85054b9",
   "metadata": {},
   "outputs": [],
   "source": [
    "# In order to fit any integrated time series model we need to have 3 values\n",
    "# p - AR model\n",
    "# q - Moving avg\n",
    "# d - difference to make it stationary\n",
    "\n",
    "# To determine the value of p,q,d we use ACF and PACF plots\n",
    "# ACF stands for Auto Correlation Funtion and hence we see the value of p from the plot\n",
    "# PACF stands for Partial Auto Correlation Function and hence we see the q value form the plot"
   ]
  },
  {
   "cell_type": "markdown",
   "id": "7b7a8452",
   "metadata": {},
   "source": [
    "## ACF plot"
   ]
  },
  {
   "cell_type": "code",
   "execution_count": 28,
   "id": "a1b5973c",
   "metadata": {},
   "outputs": [
    {
     "data": {
      "image/png": "[encoded data removed]",
      "text/plain": [
       "<Figure size 432x288 with 1 Axes>"
      ]
     },
     "execution_count": 28,
     "metadata": {},
     "output_type": "execute_result"
    },
    {
     "data": {
      "image/png": "[encoded data removed]",
      "text/plain": [
       "<Figure size 432x288 with 1 Axes>"
      ]
     },
     "metadata": {
      "needs_background": "light"
     },
     "output_type": "display_data"
    }
   ],
   "source": [
    "plot_acf(df['seasonal_difference'].dropna())"
   ]
  },
  {
   "cell_type": "code",
   "execution_count": 1,
   "id": "8f2456e1",
   "metadata": {},
   "outputs": [],
   "source": [
    "#In the ACF plot we are suppposed to see the no of bars after which there is smooth fall.The smooth fall is after 1 then the q value is 1"
   ]
  },
  {
   "cell_type": "markdown",
   "id": "83ee2041",
   "metadata": {},
   "source": [
    "## PACF plot"
   ]
  },
  {
   "cell_type": "code",
   "execution_count": 30,
   "id": "fe3e2668",
   "metadata": {},
   "outputs": [
    {
     "data": {
      "image/png": "[encoded data removed]",
      "text/plain": [
       "<Figure size 432x288 with 1 Axes>"
      ]
     },
     "execution_count": 30,
     "metadata": {},
     "output_type": "execute_result"
    },
    {
     "data": {
      "image/png": "[encoded data removed]",
      "text/plain": [
       "<Figure size 432x288 with 1 Axes>"
      ]
     },
     "metadata": {
      "needs_background": "light"
     },
     "output_type": "display_data"
    }
   ],
   "source": [
    "plot_pacf(df['seasonal_difference'].dropna())"
   ]
  },
  {
   "cell_type": "code",
   "execution_count": 2,
   "id": "d65365b2",
   "metadata": {},
   "outputs": [],
   "source": [
    "# p value is one"
   ]
  },
  {
   "cell_type": "markdown",
   "id": "6d1be7d0",
   "metadata": {},
   "source": [
    "### Analysis:\n",
    "    From the above analysis we conclude that the p,q and d values are 1,1,1"
   ]
  },
  {
   "cell_type": "markdown",
   "id": "6c5d66a5",
   "metadata": {},
   "source": [
    "## Fitting ARIMA"
   ]
  },
  {
   "cell_type": "code",
   "execution_count": 32,
   "id": "803a0e09",
   "metadata": {},
   "outputs": [],
   "source": [
    "model_arima = ARIMA(df['sales'],order=(1,1,1))"
   ]
  },
  {
   "cell_type": "code",
   "execution_count": 33,
   "id": "8fdd38aa",
   "metadata": {},
   "outputs": [],
   "source": [
    "arima = model_arima.fit()"
   ]
  },
  {
   "cell_type": "code",
   "execution_count": 34,
   "id": "9c9d6418",
   "metadata": {},
   "outputs": [],
   "source": [
    "df['forecast'] = arima.predict(start=90,end=105,dynamic=True)"
   ]
  },
  {
   "cell_type": "code",
   "execution_count": 35,
   "id": "59ca6c6a",
   "metadata": {},
   "outputs": [
    {
     "data": {
      "text/plain": [
       "<AxesSubplot:xlabel='time'>"
      ]
     },
     "execution_count": 35,
     "metadata": {},
     "output_type": "execute_result"
    },
    {
     "data": {
      "image/png": "[encoded data removed]",
      "text/plain": [
       "<Figure size 432x288 with 1 Axes>"
      ]
     },
     "metadata": {
      "needs_background": "light"
     },
     "output_type": "display_data"
    }
   ],
   "source": [
    "df[['sales','forecast']].plot()"
   ]
  },
  {
   "cell_type": "markdown",
   "id": "4c352112",
   "metadata": {},
   "source": [
    "## Implementing sarimax"
   ]
  },
  {
   "cell_type": "code",
   "execution_count": 36,
   "id": "59675797",
   "metadata": {},
   "outputs": [],
   "source": [
    "model_sarima = sarimax.SARIMAX(df['sales'],order=(1,1,1),seasonal_order = (1,1,1,12))"
   ]
  },
  {
   "cell_type": "code",
   "execution_count": 37,
   "id": "7940d34f",
   "metadata": {},
   "outputs": [],
   "source": [
    "sarima = model_sarima.fit()"
   ]
  },
  {
   "cell_type": "code",
   "execution_count": 38,
   "id": "a7728dce",
   "metadata": {},
   "outputs": [],
   "source": [
    "df['sarima_forecast'] = sarima.predict(start=90,end=105,dynamic=True)"
   ]
  },
  {
   "cell_type": "code",
   "execution_count": 40,
   "id": "0109c3fb",
   "metadata": {
    "scrolled": true
   },
   "outputs": [
    {
     "data": {
      "text/plain": [
       "<AxesSubplot:xlabel='time'>"
      ]
     },
     "execution_count": 40,
     "metadata": {},
     "output_type": "execute_result"
    },
    {
     "data": {
      "image/png": "[encoded data removed]",
      "text/plain": [
       "<Figure size 432x288 with 1 Axes>"
      ]
     },
     "metadata": {
      "needs_background": "light"
     },
     "output_type": "display_data"
    }
   ],
   "source": [
    "df[['sales','sarima_forecast']].plot()"
   ]
  },
  {
   "cell_type": "code",
   "execution_count": 45,
   "id": "1c222ce2",
   "metadata": {},
   "outputs": [],
   "source": [
    "future_dates = [df.index[-1]+DateOffset(months=x) for x in range(0,24)]"
   ]
  },
  {
   "cell_type": "code",
   "execution_count": 48,
   "id": "b9fa6dd5",
   "metadata": {},
   "outputs": [
    {
     "data": {
      "text/plain": [
       "[Timestamp('1972-09-01 00:00:00'),\n",
       " Timestamp('1972-10-01 00:00:00'),\n",
       " Timestamp('1972-11-01 00:00:00'),\n",
       " Timestamp('1972-12-01 00:00:00'),\n",
       " Timestamp('1973-01-01 00:00:00'),\n",
       " Timestamp('1973-02-01 00:00:00'),\n",
       " Timestamp('1973-03-01 00:00:00'),\n",
       " Timestamp('1973-04-01 00:00:00'),\n",
       " Timestamp('1973-05-01 00:00:00'),\n",
       " Timestamp('1973-06-01 00:00:00'),\n",
       " Timestamp('1973-07-01 00:00:00'),\n",
       " Timestamp('1973-08-01 00:00:00'),\n",
       " Timestamp('1973-09-01 00:00:00'),\n",
       " Timestamp('1973-10-01 00:00:00'),\n",
       " Timestamp('1973-11-01 00:00:00'),\n",
       " Timestamp('1973-12-01 00:00:00'),\n",
       " Timestamp('1974-01-01 00:00:00'),\n",
       " Timestamp('1974-02-01 00:00:00'),\n",
       " Timestamp('1974-03-01 00:00:00'),\n",
       " Timestamp('1974-04-01 00:00:00'),\n",
       " Timestamp('1974-05-01 00:00:00'),\n",
       " Timestamp('1974-06-01 00:00:00'),\n",
       " Timestamp('1974-07-01 00:00:00'),\n",
       " Timestamp('1974-08-01 00:00:00')]"
      ]
     },
     "execution_count": 48,
     "metadata": {},
     "output_type": "execute_result"
    }
   ],
   "source": [
    "future_dates"
   ]
  },
  {
   "cell_type": "code",
   "execution_count": 49,
   "id": "90989e51",
   "metadata": {},
   "outputs": [],
   "source": [
    "new_df = pd.DataFrame(index= future_dates[1:],columns=df.columns)"
   ]
  },
  {
   "cell_type": "code",
   "execution_count": 50,
   "id": "98dd6340",
   "metadata": {},
   "outputs": [
    {
     "data": {
      "text/html": [
       "<div>\n",
       "<style scoped>\n",
       "    .dataframe tbody tr th:only-of-type {\n",
       "        vertical-align: middle;\n",
       "    }\n",
       "\n",
       "    .dataframe tbody tr th {\n",
       "        vertical-align: top;\n",
       "    }\n",
       "\n",
       "    .dataframe thead th {\n",
       "        text-align: right;\n",
       "    }\n",
       "</style>\n",
       "<table border=\"1\" class=\"dataframe\">\n",
       "  <thead>\n",
       "    <tr style=\"text-align: right;\">\n",
       "      <th></th>\n",
       "      <th>sales</th>\n",
       "      <th>first_difference</th>\n",
       "      <th>seasonal_difference</th>\n",
       "      <th>forecast</th>\n",
       "      <th>sarima_forecast</th>\n",
       "    </tr>\n",
       "  </thead>\n",
       "  <tbody>\n",
       "    <tr>\n",
       "      <th>1972-10-01</th>\n",
       "      <td>NaN</td>\n",
       "      <td>NaN</td>\n",
       "      <td>NaN</td>\n",
       "      <td>NaN</td>\n",
       "      <td>NaN</td>\n",
       "    </tr>\n",
       "    <tr>\n",
       "      <th>1972-11-01</th>\n",
       "      <td>NaN</td>\n",
       "      <td>NaN</td>\n",
       "      <td>NaN</td>\n",
       "      <td>NaN</td>\n",
       "      <td>NaN</td>\n",
       "    </tr>\n",
       "    <tr>\n",
       "      <th>1972-12-01</th>\n",
       "      <td>NaN</td>\n",
       "      <td>NaN</td>\n",
       "      <td>NaN</td>\n",
       "      <td>NaN</td>\n",
       "      <td>NaN</td>\n",
       "    </tr>\n",
       "    <tr>\n",
       "      <th>1973-01-01</th>\n",
       "      <td>NaN</td>\n",
       "      <td>NaN</td>\n",
       "      <td>NaN</td>\n",
       "      <td>NaN</td>\n",
       "      <td>NaN</td>\n",
       "    </tr>\n",
       "    <tr>\n",
       "      <th>1973-02-01</th>\n",
       "      <td>NaN</td>\n",
       "      <td>NaN</td>\n",
       "      <td>NaN</td>\n",
       "      <td>NaN</td>\n",
       "      <td>NaN</td>\n",
       "    </tr>\n",
       "    <tr>\n",
       "      <th>1973-03-01</th>\n",
       "      <td>NaN</td>\n",
       "      <td>NaN</td>\n",
       "      <td>NaN</td>\n",
       "      <td>NaN</td>\n",
       "      <td>NaN</td>\n",
       "    </tr>\n",
       "    <tr>\n",
       "      <th>1973-04-01</th>\n",
       "      <td>NaN</td>\n",
       "      <td>NaN</td>\n",
       "      <td>NaN</td>\n",
       "      <td>NaN</td>\n",
       "      <td>NaN</td>\n",
       "    </tr>\n",
       "    <tr>\n",
       "      <th>1973-05-01</th>\n",
       "      <td>NaN</td>\n",
       "      <td>NaN</td>\n",
       "      <td>NaN</td>\n",
       "      <td>NaN</td>\n",
       "      <td>NaN</td>\n",
       "    </tr>\n",
       "    <tr>\n",
       "      <th>1973-06-01</th>\n",
       "      <td>NaN</td>\n",
       "      <td>NaN</td>\n",
       "      <td>NaN</td>\n",
       "      <td>NaN</td>\n",
       "      <td>NaN</td>\n",
       "    </tr>\n",
       "    <tr>\n",
       "      <th>1973-07-01</th>\n",
       "      <td>NaN</td>\n",
       "      <td>NaN</td>\n",
       "      <td>NaN</td>\n",
       "      <td>NaN</td>\n",
       "      <td>NaN</td>\n",
       "    </tr>\n",
       "    <tr>\n",
       "      <th>1973-08-01</th>\n",
       "      <td>NaN</td>\n",
       "      <td>NaN</td>\n",
       "      <td>NaN</td>\n",
       "      <td>NaN</td>\n",
       "      <td>NaN</td>\n",
       "    </tr>\n",
       "    <tr>\n",
       "      <th>1973-09-01</th>\n",
       "      <td>NaN</td>\n",
       "      <td>NaN</td>\n",
       "      <td>NaN</td>\n",
       "      <td>NaN</td>\n",
       "      <td>NaN</td>\n",
       "    </tr>\n",
       "    <tr>\n",
       "      <th>1973-10-01</th>\n",
       "      <td>NaN</td>\n",
       "      <td>NaN</td>\n",
       "      <td>NaN</td>\n",
       "      <td>NaN</td>\n",
       "      <td>NaN</td>\n",
       "    </tr>\n",
       "    <tr>\n",
       "      <th>1973-11-01</th>\n",
       "      <td>NaN</td>\n",
       "      <td>NaN</td>\n",
       "      <td>NaN</td>\n",
       "      <td>NaN</td>\n",
       "      <td>NaN</td>\n",
       "    </tr>\n",
       "    <tr>\n",
       "      <th>1973-12-01</th>\n",
       "      <td>NaN</td>\n",
       "      <td>NaN</td>\n",
       "      <td>NaN</td>\n",
       "      <td>NaN</td>\n",
       "      <td>NaN</td>\n",
       "    </tr>\n",
       "    <tr>\n",
       "      <th>1974-01-01</th>\n",
       "      <td>NaN</td>\n",
       "      <td>NaN</td>\n",
       "      <td>NaN</td>\n",
       "      <td>NaN</td>\n",
       "      <td>NaN</td>\n",
       "    </tr>\n",
       "    <tr>\n",
       "      <th>1974-02-01</th>\n",
       "      <td>NaN</td>\n",
       "      <td>NaN</td>\n",
       "      <td>NaN</td>\n",
       "      <td>NaN</td>\n",
       "      <td>NaN</td>\n",
       "    </tr>\n",
       "    <tr>\n",
       "      <th>1974-03-01</th>\n",
       "      <td>NaN</td>\n",
       "      <td>NaN</td>\n",
       "      <td>NaN</td>\n",
       "      <td>NaN</td>\n",
       "      <td>NaN</td>\n",
       "    </tr>\n",
       "    <tr>\n",
       "      <th>1974-04-01</th>\n",
       "      <td>NaN</td>\n",
       "      <td>NaN</td>\n",
       "      <td>NaN</td>\n",
       "      <td>NaN</td>\n",
       "      <td>NaN</td>\n",
       "    </tr>\n",
       "    <tr>\n",
       "      <th>1974-05-01</th>\n",
       "      <td>NaN</td>\n",
       "      <td>NaN</td>\n",
       "      <td>NaN</td>\n",
       "      <td>NaN</td>\n",
       "      <td>NaN</td>\n",
       "    </tr>\n",
       "    <tr>\n",
       "      <th>1974-06-01</th>\n",
       "      <td>NaN</td>\n",
       "      <td>NaN</td>\n",
       "      <td>NaN</td>\n",
       "      <td>NaN</td>\n",
       "      <td>NaN</td>\n",
       "    </tr>\n",
       "    <tr>\n",
       "      <th>1974-07-01</th>\n",
       "      <td>NaN</td>\n",
       "      <td>NaN</td>\n",
       "      <td>NaN</td>\n",
       "      <td>NaN</td>\n",
       "      <td>NaN</td>\n",
       "    </tr>\n",
       "    <tr>\n",
       "      <th>1974-08-01</th>\n",
       "      <td>NaN</td>\n",
       "      <td>NaN</td>\n",
       "      <td>NaN</td>\n",
       "      <td>NaN</td>\n",
       "      <td>NaN</td>\n",
       "    </tr>\n",
       "  </tbody>\n",
       "</table>\n",
       "</div>"
      ],
      "text/plain": [
       "           sales first_difference seasonal_difference forecast sarima_forecast\n",
       "1972-10-01   NaN              NaN                 NaN      NaN             NaN\n",
       "1972-11-01   NaN              NaN                 NaN      NaN             NaN\n",
       "1972-12-01   NaN              NaN                 NaN      NaN             NaN\n",
       "1973-01-01   NaN              NaN                 NaN      NaN             NaN\n",
       "1973-02-01   NaN              NaN                 NaN      NaN             NaN\n",
       "1973-03-01   NaN              NaN                 NaN      NaN             NaN\n",
       "1973-04-01   NaN              NaN                 NaN      NaN             NaN\n",
       "1973-05-01   NaN              NaN                 NaN      NaN             NaN\n",
       "1973-06-01   NaN              NaN                 NaN      NaN             NaN\n",
       "1973-07-01   NaN              NaN                 NaN      NaN             NaN\n",
       "1973-08-01   NaN              NaN                 NaN      NaN             NaN\n",
       "1973-09-01   NaN              NaN                 NaN      NaN             NaN\n",
       "1973-10-01   NaN              NaN                 NaN      NaN             NaN\n",
       "1973-11-01   NaN              NaN                 NaN      NaN             NaN\n",
       "1973-12-01   NaN              NaN                 NaN      NaN             NaN\n",
       "1974-01-01   NaN              NaN                 NaN      NaN             NaN\n",
       "1974-02-01   NaN              NaN                 NaN      NaN             NaN\n",
       "1974-03-01   NaN              NaN                 NaN      NaN             NaN\n",
       "1974-04-01   NaN              NaN                 NaN      NaN             NaN\n",
       "1974-05-01   NaN              NaN                 NaN      NaN             NaN\n",
       "1974-06-01   NaN              NaN                 NaN      NaN             NaN\n",
       "1974-07-01   NaN              NaN                 NaN      NaN             NaN\n",
       "1974-08-01   NaN              NaN                 NaN      NaN             NaN"
      ]
     },
     "execution_count": 50,
     "metadata": {},
     "output_type": "execute_result"
    }
   ],
   "source": [
    "new_df"
   ]
  },
  {
   "cell_type": "code",
   "execution_count": 51,
   "id": "18ae9912",
   "metadata": {},
   "outputs": [],
   "source": [
    "forecast_df = pd.concat([df,new_df])"
   ]
  },
  {
   "cell_type": "code",
   "execution_count": 53,
   "id": "6978e6e3",
   "metadata": {},
   "outputs": [],
   "source": [
    "forecast_df['sarima_forecast'] = sarima.predict(start=102,end=130,dynamic=True)"
   ]
  },
  {
   "cell_type": "code",
   "execution_count": 54,
   "id": "0baba0b5",
   "metadata": {},
   "outputs": [
    {
     "data": {
      "text/plain": [
       "<AxesSubplot:>"
      ]
     },
     "execution_count": 54,
     "metadata": {},
     "output_type": "execute_result"
    },
    {
     "data": {
      "image/png": "[encoded data removed]",
      "text/plain": [
       "<Figure size 432x288 with 1 Axes>"
      ]
     },
     "metadata": {
      "needs_background": "light"
     },
     "output_type": "display_data"
    }
   ],
   "source": [
    "forecast_df[['sales','sarima_forecast']].plot()"
   ]
  },
  {
   "cell_type": "code",
   "execution_count": null,
   "id": "d72b51a3",
   "metadata": {},
   "outputs": [],
   "source": []
  }
 ],
 "metadata": {
  "kernelspec": {
   "display_name": "Python 3 (ipykernel)",
   "language": "python",
   "name": "python3"
  },
  "language_info": {
   "codemirror_mode": {
    "name": "ipython",
    "version": 3
   },
   "file_extension": ".py",
   "mimetype": "text/x-python",
   "name": "python",
   "nbconvert_exporter": "python",
   "pygments_lexer": "ipython3",
   "version": "3.9.7"
  }
 },
 "nbformat": 4,
 "nbformat_minor": 5
}
